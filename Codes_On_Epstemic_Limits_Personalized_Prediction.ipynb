{
  "cells": [
    {
      "cell_type": "markdown",
      "metadata": {
        "id": "JRfwXv40wt6a"
      },
      "source": [
        "## Importing Libraries"
      ]
    },
    {
      "cell_type": "code",
      "execution_count": null,
      "metadata": {
        "id": "mbs2sqDsoF7b"
      },
      "outputs": [],
      "source": [
        "# Importing libraries\n",
        "\n",
        "# Math Libraries\n",
        "import random\n",
        "import math\n",
        "import numpy as np\n",
        "\n",
        "# Data Processing\n",
        "import pandas as pd\n",
        "\n",
        "# Libraries for data visualization\n",
        "import matplotlib.pyplot as plt  \n",
        "import seaborn as sns \n",
        "\n",
        "# ML\n",
        "from sklearn.linear_model import LogisticRegression # Importing Logistic Model\n",
        "from sklearn.model_selection import train_test_split # Train Test Split\n",
        "from sklearn.preprocessing import MinMaxScaler # Data normalizer Min Max Scale\n",
        "from sklearn.metrics import accuracy_score # Calculate the accuracy\n",
        "\n",
        "# Loading Bar\n",
        "from time import sleep\n",
        "from tqdm import tqdm\n",
        "\n",
        "# Supress warnings\n",
        "import warnings; warnings.simplefilter('ignore')\n"
      ]
    },
    {
      "cell_type": "markdown",
      "metadata": {
        "id": "uxQQgo7yhU0R"
      },
      "source": [
        "## Global Functions"
      ]
    },
    {
      "cell_type": "code",
      "execution_count": null,
      "metadata": {
        "id": "gUvXBXGjV6Ed"
      },
      "outputs": [],
      "source": [
        "# Defining the upper and lower bound for MSE in BoP\n",
        "def upper(d, m):\n",
        "  return math.log(d) / (m) + np.log(m) / m + (1 + math.log(2)) / m\n",
        "def lower(d, m):\n",
        "  return math.log(d) / (16 * m) - (math.log(4)) / (16 * m)"
      ]
    },
    {
      "cell_type": "code",
      "execution_count": null,
      "metadata": {
        "id": "yzfI34lJeDs0"
      },
      "outputs": [],
      "source": [
        "def get_mean(df: pd.DataFrame,significants: list,  groups: list, dpg: int) -> float:\n",
        "  sample_size = random.randrange(dpg)\n",
        "  estimated_mean = []\n",
        "  for group in significants:\n",
        "    aux = df[((df[groups]).sum(axis = 1)) == group].reset_index()\n",
        "    data = (aux).loc[np.random.choice(np.arange(len(aux)), size=sample_size)]\n",
        "    estimated_mean.append(data['performance difference'].mean())\n",
        "  return estimated_mean"
      ]
    },
    {
      "cell_type": "code",
      "execution_count": null,
      "metadata": {
        "id": "8yoHN2Y2WpzB"
      },
      "outputs": [],
      "source": [
        "def error_count(true_gamma: float, est_gamma: float, epsilon: np.array) -> float:\n",
        "  size_eps = epsilon.size\n",
        "  error = np.zeros(size_eps)\n",
        "  for i in range(size_eps):\n",
        "    if epsilon[i] > true_gamma:\n",
        "      error[i] = 1 - (est_gamma < epsilon[i])*1\n",
        "    else:\n",
        "      error[i] = 1 - (est_gamma >= epsilon[i])*1\n",
        "  return error"
      ]
    },
    {
      "cell_type": "code",
      "execution_count": null,
      "metadata": {
        "id": "XBUMXHvKbpGF"
      },
      "outputs": [],
      "source": [
        "# Defining function that generates a dataset with m data points in each group\n",
        "def get_sim_dataset(df: pd.DataFrame, m: int, significants: list, groups: list,  set_seed: bool) -> pd.DataFrame:\n",
        "  new_data = []\n",
        "  if set_seed:\n",
        "    j = 0\n",
        "    for group in significants:\n",
        "      aux = df[((df[groups]).sum(axis = 1)) == group].reset_index()\n",
        "      np.random.seed(j)\n",
        "      data = (aux).loc[np.random.choice(np.arange(len(aux)), size=m)]\n",
        "      new_data.append(data)\n",
        "      j = j+1\n",
        "  else:\n",
        "    for group in significants:\n",
        "      aux = df[((df[groups]).sum(axis = 1)) == group].reset_index()\n",
        "      data = (aux).loc[np.random.choice(np.arange(len(aux)), size=m)]\n",
        "      new_data.append(data)\n",
        "\n",
        "  return pd.concat(new_data)"
      ]
    },
    {
      "cell_type": "markdown",
      "metadata": {
        "id": "nZWCxY-wiVqF"
      },
      "source": [
        "## Experiments with Adult Dataset\n",
        "Predict whether income is greater then $50k"
      ]
    },
    {
      "cell_type": "markdown",
      "metadata": {
        "id": "luaBpD1am__H"
      },
      "source": [
        "### Preprocessing"
      ]
    },
    {
      "cell_type": "code",
      "execution_count": null,
      "metadata": {
        "id": "pzqXF2DirQgu"
      },
      "outputs": [],
      "source": [
        "# Loading Datasets\n",
        "adult_dataset = pd.read_csv('../Data/adult.csv') # Loading Adult\n",
        "# adult_dataset = pd.read_csv('adult.csv') # Loading Adult"
      ]
    },
    {
      "cell_type": "code",
      "execution_count": null,
      "metadata": {
        "id": "hM5myOMUrXph"
      },
      "outputs": [],
      "source": [
        "def Adult_Data_Clean(df: pd.DataFrame) -> pd.DataFrame:\n",
        "  # Changing collumn names for convenience\n",
        "  df.rename(columns={'capital-gain': 'gain', 'capital-loss': 'loss', 'native-country': 'country',\n",
        "                    'hours-per-week': 'hours','marital-status': 'marital'}, inplace=True)\n",
        "  \n",
        "  # Finding not known data\n",
        "  df['country'] = df['country'].replace('?',np.nan)\n",
        "  df['workclass'] = df['workclass'].replace('?',np.nan)\n",
        "  df['occupation'] = df['occupation'].replace('?',np.nan)\n",
        "  \n",
        "  # Dropping not known data\n",
        "  df.dropna(how='any',inplace=True)\n",
        "\n",
        "  # Normalizing numerical features\n",
        "  numerical = ['age', 'fnlwgt', 'educational-num', 'gain', 'loss', 'hours']\n",
        "  scaler = MinMaxScaler()\n",
        "  df[numerical] = scaler.fit_transform(df[numerical])  \n",
        "  return df"
      ]
    },
    {
      "cell_type": "code",
      "execution_count": null,
      "metadata": {
        "id": "sgNZzR3Wt9uh"
      },
      "outputs": [],
      "source": [
        "# Cleaning adult dataset\n",
        "adult_dataset = Adult_Data_Clean(adult_dataset)\n",
        "adult_groups = ['workclass', 'education', 'marital', 'occupation', 'relationship', 'race', 'gender', 'country']\n",
        "\n",
        "# Finding significant groups, i.e., counting samples per group.\n",
        "adult_Counting_groups = adult_dataset.groupby(adult_groups).size().to_frame('m').reset_index()\n",
        "adult_only_with_more = 50\n",
        "significant_groups = adult_Counting_groups[adult_Counting_groups['m'] > adult_only_with_more]\n",
        "adult_list_significant = (significant_groups[adult_groups]).sum(axis = 1).tolist()\n",
        "d = len(adult_list_significant)\n",
        "\n",
        "# Filtering for only groups with more than adult_only_with_more elements\n",
        "adult_dataset = adult_dataset[ ((adult_dataset[adult_groups]).sum(axis = 1)).isin(adult_list_significant)]\n",
        "\n",
        "# Separating label (income) from the rest of the data and making income binary\n",
        "income_raw = adult_dataset['income'].tolist()\n",
        "adult_dataset = adult_dataset.drop(['income'], axis=1)\n",
        "income = pd.Series(income_raw).astype('category').cat.codes.tolist()"
      ]
    },
    {
      "cell_type": "code",
      "execution_count": null,
      "metadata": {
        "colab": {
          "base_uri": "https://localhost:8080/"
        },
        "id": "Xo8S61k_ZcfD",
        "outputId": "8153483e-bd61-47d9-f671-75eb75f32f5f"
      },
      "outputs": [
        {
          "output_type": "stream",
          "name": "stdout",
          "text": [
            "141\n"
          ]
        }
      ],
      "source": [
        "print(d)"
      ]
    },
    {
      "cell_type": "markdown",
      "metadata": {
        "id": "DhburjEvnDyw"
      },
      "source": [
        "### Training personalized classifier (with group attributes) h_g"
      ]
    },
    {
      "cell_type": "code",
      "execution_count": null,
      "metadata": {
        "id": "2vX8iBlwwSt8"
      },
      "outputs": [],
      "source": [
        "# Defining dataset to be used in the personalized algorithm\n",
        "per_adult_dataset = adult_dataset\n",
        "# One-Hot encoding\n",
        "per_adult_encoded = pd.get_dummies(per_adult_dataset)\n",
        "# Spliting dataset\n",
        "X_train, X_test, Y_train, Y_test = train_test_split(per_adult_encoded, income, test_size = 0.5, random_state = 0)"
      ]
    },
    {
      "cell_type": "code",
      "execution_count": null,
      "metadata": {
        "id": "bSYTJfOgwiH4"
      },
      "outputs": [],
      "source": [
        "# Trining the Logistic regression classifier\n",
        "logistic = LogisticRegression(solver = 'liblinear')\n",
        "logistic.fit(X_train, Y_train)\n",
        "\n",
        "#Predicting\n",
        "y_test_pred = logistic.predict(X_test)\n",
        "y_train_pred = logistic.predict(X_train)"
      ]
    },
    {
      "cell_type": "code",
      "execution_count": null,
      "metadata": {
        "colab": {
          "base_uri": "https://localhost:8080/"
        },
        "id": "QQvvSwugx9iv",
        "outputId": "a4914f00-5d09-4ccd-b7ed-293ca931d3a7"
      },
      "outputs": [
        {
          "output_type": "execute_result",
          "data": {
            "text/plain": [
              "(0.799521895034228, 0.7996523250760539)"
            ]
          },
          "metadata": {},
          "execution_count": 16
        }
      ],
      "source": [
        "# Getting accuracy for the personalized classifier\n",
        "per_train_acc = accuracy_score(Y_train, y_train_pred)\n",
        "per_test_acc = accuracy_score(Y_test, y_test_pred)\n",
        "per_train_acc, per_test_acc"
      ]
    },
    {
      "cell_type": "markdown",
      "metadata": {
        "id": "htEZ4xYKyGcQ"
      },
      "source": [
        "### Training group-blind classifier (with group attributes) h_0"
      ]
    },
    {
      "cell_type": "code",
      "execution_count": null,
      "metadata": {
        "id": "U6svDBAHyU-c"
      },
      "outputs": [],
      "source": [
        "# Dropping group features\n",
        "gb_adult_dataset = adult_dataset[['age', 'gain', 'loss', 'hours']]"
      ]
    },
    {
      "cell_type": "code",
      "execution_count": null,
      "metadata": {
        "id": "exmnW9E3yj1J"
      },
      "outputs": [],
      "source": [
        "# Spliting dataset (Here we are using the same split as in ther Personalized Model)\n",
        "gb_X_train, gb_X_test = X_train[['age', 'gain', 'loss', 'hours']], X_test[['age', 'gain', 'loss', 'hours']]\n",
        "gb_Y_train, gb_Y_test = Y_train, Y_test"
      ]
    },
    {
      "cell_type": "code",
      "execution_count": null,
      "metadata": {
        "id": "TTCVC19hy_88"
      },
      "outputs": [],
      "source": [
        "# Creating GB model\n",
        "gb_logistic = LogisticRegression(solver = 'liblinear')\n",
        "gb_logistic.fit(gb_X_train, gb_Y_train)\n",
        "\n",
        "#Predicting\n",
        "gb_y_test_pred = gb_logistic.predict(gb_X_test)\n",
        "gb_y_train_pred = gb_logistic.predict(gb_X_train)"
      ]
    },
    {
      "cell_type": "code",
      "execution_count": null,
      "metadata": {
        "colab": {
          "base_uri": "https://localhost:8080/"
        },
        "id": "170Pbhl4zFic",
        "outputId": "0c74c02f-bf9e-4e5a-d86e-260504fe133f"
      },
      "outputs": [
        {
          "output_type": "execute_result",
          "data": {
            "text/plain": [
              "(0.7155275453656417, 0.7187092568448501)"
            ]
          },
          "metadata": {},
          "execution_count": 20
        }
      ],
      "source": [
        "# Accuracy group blind classifier\n",
        "gb_train_acc = accuracy_score(gb_Y_train, gb_y_train_pred)\n",
        "gb_test_acc = accuracy_score(gb_Y_test, gb_y_test_pred)\n",
        "gb_train_acc, gb_test_acc"
      ]
    },
    {
      "cell_type": "markdown",
      "metadata": {
        "id": "ytEOlyTIzxlg"
      },
      "source": [
        "### Analysis and Plots\n",
        "\n",
        "We expect the accuracy for the group blind classifier to be smaller than the accuracy for the personalized classifier. \n",
        "\n",
        "Now, we will calculate the benefit of personalization. Note that here we don't have access to the true dataset distribution. Then we will resample from the test dataset $1000$ data points, estimate the BoP and define it as the group truth BoP.\n",
        "\n",
        "For future estimations we will do the same procedure, we will resample $m$ samples with replacemente from the test dataset and estimate the BoP. "
      ]
    },
    {
      "cell_type": "code",
      "execution_count": null,
      "metadata": {
        "colab": {
          "base_uri": "https://localhost:8080/"
        },
        "id": "tVGZsMbv091i",
        "outputId": "ceceab05-cf2f-4388-99c1-06120b8dfe44"
      },
      "outputs": [
        {
          "output_type": "stream",
          "name": "stdout",
          "text": [
            "The BoP is: -0.09199999999999997\n"
          ]
        }
      ],
      "source": [
        "# Creating test dataframe only with group information, personalized prediction, and gb prediction\n",
        "\n",
        "adult_pred_tabel = X_test # Only test data\n",
        "adult_pred_tabel = adult_dataset.loc[adult_pred_tabel.index] \n",
        "adult_pred_tabel = adult_pred_tabel[adult_groups] # Only group attributes\n",
        "GT_income = Y_test # Getting GT\n",
        "GB_pred_income = gb_y_test_pred # GB prediction\n",
        "Per_pred_income = y_test_pred # Personalized pred\n",
        "\n",
        "# Canculating indicator of right prediction\n",
        "adult_pred_tabel['GB Pred'] = 1 - (GT_income - GB_pred_income)**2\n",
        "adult_pred_tabel['Per Pred'] =  1 - (GT_income - Per_pred_income)**2\n",
        "\n",
        "#Generating a dataset with 1000 points per group\n",
        "fake_true_data = get_sim_dataset(adult_pred_tabel, 1000, adult_list_significant, adult_groups, set_seed = True)\n",
        "\n",
        "# Calculating accuracy for all significant groups\n",
        "accuracy_per_group = fake_true_data.groupby(adult_groups).mean()\n",
        "\n",
        "# Performance difference \n",
        "adult_pred_tabel['performance difference'] = adult_pred_tabel['Per Pred'] - adult_pred_tabel['GB Pred']\n",
        "\n",
        "# BoP per group\n",
        "BoP_Per_group = accuracy_per_group['Per Pred'] - accuracy_per_group['GB Pred']\n",
        "\n",
        "# BoP\n",
        "gamma = min(BoP_Per_group.tolist())\n",
        "print('The BoP is:', gamma)"
      ]
    },
    {
      "cell_type": "code",
      "execution_count": null,
      "metadata": {
        "colab": {
          "base_uri": "https://localhost:8080/"
        },
        "id": "4hQmVWUEyFMR",
        "outputId": "912787e9-14e8-41a0-959a-c9541bb8e42c"
      },
      "outputs": [
        {
          "output_type": "stream",
          "name": "stdout",
          "text": [
            "('Private', 'HS-grad', 'Married-civ-spouse', 'Tech-support', 'Husband', 'White', 'Male', 'United-States')\n",
            "['workclass', 'education', 'marital', 'occupation', 'relationship', 'race', 'gender', 'country']\n"
          ]
        }
      ],
      "source": [
        "accuracy_per_group['BoP_Per_Group'] = BoP_Per_group\n",
        "groupMostHarmed = accuracy_per_group.idxmin().loc['BoP_Per_Group']\n",
        "print(groupMostHarmed)\n",
        "print(accuracy_per_group.index.names)"
      ]
    },
    {
      "cell_type": "code",
      "execution_count": null,
      "metadata": {
        "colab": {
          "base_uri": "https://localhost:8080/"
        },
        "id": "GM-ISG1W6_UI",
        "outputId": "fa311dc8-2398-4c75-ee10-abc7b83972f9"
      },
      "outputs": [
        {
          "output_type": "stream",
          "name": "stdout",
          "text": [
            "True\n"
          ]
        }
      ],
      "source": [
        "# verify groupMostHarmed\n",
        "print(accuracy_per_group.loc[groupMostHarmed]['BoP_Per_Group'] == gamma)"
      ]
    },
    {
      "cell_type": "markdown",
      "metadata": {
        "id": "qu5LqDwJ45Co"
      },
      "source": [
        "As we expect, for the Adult dataset, even knowing that the overall accuracy is bigger for the personalized algorithm, the BoP is negative. Then, there exists a group being **harmed**!"
      ]
    },
    {
      "cell_type": "markdown",
      "metadata": {
        "id": "hkxZ5vYg5tRE"
      },
      "source": [
        "Now, Lets start to run our experiments for estimation of the BoP. \n",
        "We will resample with replacement $m$ samples per group.\n",
        "After that, we will use Monte Carlo simulations to to calculate the BoP for a given $m$."
      ]
    },
    {
      "cell_type": "code",
      "execution_count": null,
      "metadata": {
        "colab": {
          "base_uri": "https://localhost:8080/"
        },
        "id": "jv_gwRX16yX-",
        "outputId": "39cd9865-ccd4-4c8d-ac0f-0bc7b9860928"
      },
      "outputs": [
        {
          "output_type": "stream",
          "name": "stderr",
          "text": [
            "100%|██████████| 23/23 [1:03:12<00:00, 164.89s/it]\n"
          ]
        }
      ],
      "source": [
        "montecarlo_it = 100\n",
        "#qtd_per_group =np.array([10,20,50,100,200,500,1000])\n",
        "qtd_per_group =np.array([10,25,50, 75, 100, 150, 200, 250, 300, 350, 400, 450, \n",
        "                      500, 550, 600, 650, 700, 750, 800, 850, 900, 950, 1000])\n",
        "\n",
        "gammas = np.zeros((qtd_per_group.size) * montecarlo_it)\n",
        "data_per_group_est = np.zeros((qtd_per_group.size) * montecarlo_it)\n",
        "j = 0\n",
        "for i in tqdm(qtd_per_group):\n",
        "  gamma_sum = 0\n",
        "  for l in range(montecarlo_it):\n",
        "    dataset_slice = get_sim_dataset(adult_pred_tabel, i, adult_list_significant, adult_groups, set_seed = False)\n",
        "    slice_accuracy_per_group = dataset_slice.groupby(adult_groups).mean()\n",
        "    gammas[j] = ( min(slice_accuracy_per_group['performance difference'].tolist()) - gamma) ** 2\n",
        "    data_per_group_est[j] = i\n",
        "    j = j+1"
      ]
    },
    {
      "cell_type": "code",
      "execution_count": null,
      "metadata": {
        "id": "SfRHJw9a8WyE",
        "colab": {
          "base_uri": "https://localhost:8080/",
          "height": 319
        },
        "outputId": "6098a535-c74a-464c-afde-3485deba56af"
      },
      "outputs": [
        {
          "output_type": "display_data",
          "data": {
            "text/plain": [
              "<Figure size 432x288 with 1 Axes>"
            ],
            "image/png": "[encoded data removed]"
          },
          "metadata": {}
        }
      ],
      "source": [
        "with sns.axes_style(\"whitegrid\"):\n",
        "\n",
        "  m = qtd_per_group\n",
        "  points_per_group_est = data_per_group_est\n",
        "  points_MSE = np.stack((points_per_group_est, gammas), axis = 1)\n",
        "  x_label = r'Data points per group ($m$)'\n",
        "  y_label = r'MSE estimate [$\\log$]'\n",
        "  column_values = [x_label, y_label ]\n",
        "  df = pd.DataFrame(data = points_MSE, \n",
        "                    columns = column_values)\n",
        "  a_u = np.stack((qtd_per_group, upper(d, m)), axis = 1)\n",
        "  a_l = np.stack((qtd_per_group, lower(d, m)), axis = 1)\n",
        "  a_u = pd.DataFrame(data = a_u, \n",
        "                    columns = column_values)\n",
        "  a_l = pd.DataFrame(data = a_l, \n",
        "                    columns = column_values)\n",
        "\n",
        "  df['Type'] = 'Estimate'\n",
        "  a_u['Type'] = 'Minimax Upper bound'\n",
        "  a_l['Type'] = 'Minimax Lower bound'\n",
        "  ax1 = sns.pointplot(data=pd.concat([df,a_u, a_l]), x=x_label, y=y_label, hue = 'Type', linestyles='', marker='o', errorbar=(\"pi\", 10))\n",
        "  handles, labels = ax1.get_legend_handles_labels()\n",
        "  ax1.legend(handles=handles[0:], labels=labels[0:])\n",
        "\n",
        "\n",
        "  plt.yscale('log')\n",
        "  ax1.set_xticklabels(qtd_per_group, rotation=45)\n",
        "\n",
        "  plt.savefig('MSE_log_bounds.pdf', bbox_inches='tight')\n",
        "\n",
        "  #legend = ax.legend()\n",
        "  #legend.texts[0]\n"
      ]
    },
    {
      "cell_type": "code",
      "execution_count": null,
      "metadata": {
        "id": "oPU7YwdMbQiQ"
      },
      "outputs": [],
      "source": [
        "with sns.axes_style(\"whitegrid\"):\n",
        "\n",
        "  m = qtd_per_group\n",
        "  points_per_group_est = data_per_group_est\n",
        "  points_MSE = np.stack((points_per_group_est, gammas), axis = 1)\n",
        "  x_label = r'Data points per group ($m$)'\n",
        "  y_label = r'MSE estimation [$\\log$]'\n",
        "  column_values = [x_label, y_label ]\n",
        "  df = pd.DataFrame(data = points_MSE, \n",
        "                    columns = column_values)\n",
        "  a_u = np.stack((qtd_per_group, upper(d, m)), axis = 1)\n",
        "  a_l = np.stack((qtd_per_group, lower(d, m)), axis = 1)\n",
        "  a_u = pd.DataFrame(data = a_u, \n",
        "                    columns = column_values)\n",
        "  a_l = pd.DataFrame(data = a_l, \n",
        "                    columns = column_values)\n",
        "\n",
        "  df['Type'] = 'Estimation'\n",
        "  a_u['Type'] = 'Upper bound'\n",
        "  a_l['Type'] = 'Lower bound'\n",
        "  ax1 = sns.pointplot(data=pd.concat([df]), x=x_label, y=y_label, hue = 'Type', linestyles='', marker='o', errorbar=(\"pi\", 10))\n",
        "  handles, labels = ax1.get_legend_handles_labels()\n",
        "  ax1.legend(handles=handles[0:], labels=labels[0:])\n",
        "\n",
        "\n",
        "  plt.yscale('log')\n",
        "  ax1.set_xticklabels(qtd_per_group, rotation=45)\n",
        "\n",
        "  plt.savefig('MSE_log.pdf', bbox_inches='tight')\n",
        "\n",
        "  legend = ax.legend()\n",
        "  legend.texts[0]\n"
      ]
    },
    {
      "cell_type": "markdown",
      "metadata": {
        "id": "JGNz-vUbijfy"
      },
      "source": [
        "**Now**, we will run experiments for the hypothesis test. We will:\n",
        "\n",
        "\n",
        "1.   Choose an $\\epsilon$, run an threshold test with this epsilon, and plot the error probability of the test and our converse bound.\n",
        "2.   We will create a heat-map to show the above experiment for different values of epsilon. \n",
        "\n"
      ]
    },
    {
      "cell_type": "code",
      "execution_count": null,
      "metadata": {
        "id": "GryEp855kNUR",
        "colab": {
          "base_uri": "https://localhost:8080/"
        },
        "outputId": "d9d790a4-59f7-43df-a939-7e54c7fc0723"
      },
      "outputs": [
        {
          "output_type": "stream",
          "name": "stderr",
          "text": [
            "100%|██████████| 8/8 [23:45<00:00, 178.24s/it]\n"
          ]
        }
      ],
      "source": [
        "it_bootstrap = 100\n",
        "epsilon = -0.15\n",
        "\n",
        "qtd_per_group_prob = np.sort(np.array([10,20,50,100, 200,500,1000] + [d]))\n",
        "\n",
        "per_group_num = np.zeros((qtd_per_group_prob.size)*it_bootstrap)\n",
        "error_prob = np.zeros((qtd_per_group_prob.size)*it_bootstrap)\n",
        "j = 0\n",
        "for l in tqdm(qtd_per_group_prob):\n",
        "  i = l\n",
        "  error_prob_sum = 0\n",
        "  dataset_slice = get_sim_dataset(adult_pred_tabel, i, adult_list_significant, adult_groups, set_seed = False)\n",
        "\n",
        "  for k in range(it_bootstrap):\n",
        "    slice_accuracy_per_group = get_mean(adult_pred_tabel, adult_list_significant,  adult_groups, i)\n",
        "    aux_gamma = min(slice_accuracy_per_group) \n",
        "    error_prob_sum = error_count(gamma, aux_gamma, np.array([epsilon]))\n",
        "    per_group_num[j] = i\n",
        "    error_prob[j] = error_prob_sum\n",
        "    j = j+1"
      ]
    },
    {
      "cell_type": "code",
      "execution_count": null,
      "metadata": {
        "id": "H0zF11u0o9LV",
        "colab": {
          "base_uri": "https://localhost:8080/",
          "height": 300
        },
        "outputId": "c1cbfcb1-2197-4b97-9fdb-1fe3191fd427"
      },
      "outputs": [
        {
          "output_type": "display_data",
          "data": {
            "text/plain": [
              "<Figure size 432x288 with 1 Axes>"
            ],
            "image/png": "[encoded data removed]"
          },
          "metadata": {}
        }
      ],
      "source": [
        "import matplotlib.ticker as mtick\n",
        "with sns.axes_style(\"whitegrid\"):\n",
        "\n",
        "  points_per_group = per_group_num\n",
        "  points_error = np.stack((points_per_group, 100*error_prob.T), axis = 1)\n",
        "  column_values = ['Data points per group (m)', 'Probability of error (%)']\n",
        "  df = pd.DataFrame(data = points_error, \n",
        "                    columns = column_values)\n",
        "  trans = np.where(d == qtd_per_group_prob)\n",
        "  a = sns.pointplot(data=df, x=column_values[0], y=column_values[1], linestyles='', marker='o', edgecolor = 'black', linewidth = 1)\n",
        "  a.yaxis.set_major_formatter(mtick.PercentFormatter())\n",
        "\n",
        "  plt.axvline(trans, 0,100, color = 'orange', linestyle='--', alpha=0.5, label = 'm = Number of groups')\n",
        "  plt.legend(loc='lower left')\n",
        "  a.set_xticklabels(qtd_per_group_prob)\n",
        "  plt.savefig('Phase_trans.pdf')"
      ]
    },
    {
      "cell_type": "code",
      "execution_count": null,
      "metadata": {
        "id": "lcm6hVcDpWuj",
        "colab": {
          "base_uri": "https://localhost:8080/"
        },
        "outputId": "b8177be7-e083-45ba-9311-d2b7c5cf4320"
      },
      "outputs": [
        {
          "output_type": "stream",
          "name": "stderr",
          "text": [
            "100%|██████████| 7/7 [21:25<00:00, 183.58s/it]\n"
          ]
        }
      ],
      "source": [
        "it_bootstrap = 100\n",
        "epsilon = np.array([-0.2, -0.1, -0.05, 0, 0.05, 0.1, 0.2])\n",
        "qtd_per_group =np.array([10,20,50,100,200,500,1000])\n",
        "\n",
        "error_prob_Matrix = np.zeros((qtd_per_group.size, epsilon.size))\n",
        "j = 0\n",
        "k = 0\n",
        "for i in tqdm(qtd_per_group):\n",
        "  error_prob_sum = 0\n",
        "  dataset_slice = get_sim_dataset(adult_pred_tabel, i, adult_list_significant, adult_groups, set_seed = False)\n",
        "\n",
        "  for l in range(it_bootstrap):\n",
        "    slice_accuracy_per_group = get_mean(adult_pred_tabel, adult_list_significant,  adult_groups, i)\n",
        "    aux_gamma = min(slice_accuracy_per_group) \n",
        "    error_prob_sum += error_count(gamma, aux_gamma, epsilon)\n",
        "\n",
        "  error_prob_Matrix[j, :] = error_prob_sum / it_bootstrap\n",
        "  j = j+1"
      ]
    },
    {
      "cell_type": "code",
      "execution_count": null,
      "metadata": {
        "id": "saxSmKfjq_iV",
        "colab": {
          "base_uri": "https://localhost:8080/",
          "height": 248
        },
        "outputId": "52bc0291-979b-4f3e-ca72-87abdb9f1878"
      },
      "outputs": [
        {
          "output_type": "error",
          "ename": "NameError",
          "evalue": "ignored",
          "traceback": [
            "\u001b[0;31m---------------------------------------------------------------------------\u001b[0m",
            "\u001b[0;31mNameError\u001b[0m                                 Traceback (most recent call last)",
            "\u001b[0;32m<ipython-input-1-2ee013bc87c0>\u001b[0m in \u001b[0;36m<module>\u001b[0;34m\u001b[0m\n\u001b[0;32m----> 1\u001b[0;31m \u001b[0msns\u001b[0m\u001b[0;34m.\u001b[0m\u001b[0mcolor_palette\u001b[0m\u001b[0;34m(\u001b[0m\u001b[0;34m\"vlag\"\u001b[0m\u001b[0;34m,\u001b[0m \u001b[0mas_cmap\u001b[0m\u001b[0;34m=\u001b[0m\u001b[0;32mFalse\u001b[0m\u001b[0;34m)\u001b[0m\u001b[0;34m\u001b[0m\u001b[0;34m\u001b[0m\u001b[0m\n\u001b[0m\u001b[1;32m      2\u001b[0m \u001b[0maux_prob_matrix\u001b[0m \u001b[0;34m=\u001b[0m \u001b[0;34m[\u001b[0m\u001b[0;34m[\u001b[0m\u001b[0;36m100\u001b[0m \u001b[0;34m*\u001b[0m \u001b[0ml\u001b[0m  \u001b[0;32mfor\u001b[0m \u001b[0ml\u001b[0m \u001b[0;32min\u001b[0m \u001b[0msub\u001b[0m\u001b[0;34m]\u001b[0m \u001b[0;32mfor\u001b[0m \u001b[0msub\u001b[0m \u001b[0;32min\u001b[0m \u001b[0merror_prob_Matrix\u001b[0m\u001b[0;34m]\u001b[0m\u001b[0;34m\u001b[0m\u001b[0;34m\u001b[0m\u001b[0m\n\u001b[1;32m      3\u001b[0m \u001b[0;34m\u001b[0m\u001b[0m\n\u001b[1;32m      4\u001b[0m \u001b[0ma\u001b[0m \u001b[0;34m=\u001b[0m \u001b[0mpd\u001b[0m\u001b[0;34m.\u001b[0m\u001b[0mDataFrame\u001b[0m\u001b[0;34m(\u001b[0m\u001b[0maux_prob_matrix\u001b[0m\u001b[0;34m)\u001b[0m\u001b[0;34m\u001b[0m\u001b[0;34m\u001b[0m\u001b[0m\n\u001b[1;32m      5\u001b[0m \u001b[0;34m\u001b[0m\u001b[0m\n",
            "\u001b[0;31mNameError\u001b[0m: name 'sns' is not defined"
          ]
        }
      ],
      "source": [
        "sns.color_palette(\"vlag\", as_cmap=True)\n",
        "aux_prob_matrix = [[100 * l  for l in sub] for sub in error_prob_Matrix]\n",
        "\n",
        "a = pd.DataFrame(aux_prob_matrix)\n",
        "\n",
        "a = a.set_axis(epsilon, axis=1, inplace=False)\n",
        "a = a.set_axis(qtd_per_group, axis=0, inplace=False)\n",
        "plt.rc('font', family='sans-serif') \n",
        "plt.rc('font', serif='Helvetica Neue') \n",
        "plt.rc('text', usetex='false') \n",
        "ax = sns.heatmap(a, annot=True, cmap = 'vlag',  fmt='g', linewidths=.2, cbar_kws={'label': 'Probability of Error (%)'})\n",
        "plt.xlabel(r'Threshold Gain ($\\epsilon$)')\n",
        "plt.ylabel('Data Points per Group (m)')\n",
        "ax.invert_yaxis()\n",
        "fmt = '%.0f%%'\n",
        "ax.set_yticklabels(ax.get_yticklabels(), rotation = 0)\n",
        "for t in ax.texts: t.set_text(t.get_text() + \"%\")  \n",
        "cbar = ax.collections[0].colorbar\n",
        "cbar.set_ticks([0, 25, 50, 75, 100])\n",
        "cbar.set_ticklabels(['0%', '25%', '50%', '75%', '100%'])\n",
        "plt.savefig('heat_map_notation.pdf', bbox_inches='tight' )"
      ]
    },
    {
      "cell_type": "markdown",
      "metadata": {
        "id": "p6cjlrFqidFL"
      },
      "source": [
        "## Experiments with HSLS Dataset\n",
        "Predict whether a student's 9th grade Math score is higher than the median."
      ]
    },
    {
      "cell_type": "markdown",
      "metadata": {
        "id": "4E8x1mUrqlDW"
      },
      "source": [
        "### Preprocessing"
      ]
    },
    {
      "cell_type": "code",
      "execution_count": null,
      "metadata": {
        "id": "o4CnOwNDifD8"
      },
      "outputs": [],
      "source": [
        "# Loading Datasets\n",
        "df = pd.read_csv(\"../Data/hsls_condensed.csv\")"
      ]
    },
    {
      "cell_type": "code",
      "execution_count": null,
      "metadata": {
        "colab": {
          "base_uri": "https://localhost:8080/"
        },
        "id": "3I2nCh8wCUrx",
        "outputId": "496e6de5-b1c0-461a-e630-75b5b738df22"
      },
      "outputs": [
        {
          "name": "stdout",
          "output_type": "stream",
          "text": [
            "(23503, 43)\n"
          ]
        }
      ],
      "source": [
        "print(df.shape)"
      ]
    },
    {
      "cell_type": "code",
      "execution_count": null,
      "metadata": {
        "id": "QPIf22AcsV2L"
      },
      "outputs": [],
      "source": [
        "# Defining relevant features\n",
        "student_vars = ['X1SEX', 'X1RACE', 'X1MTHID', 'X1MTHUTI', 'X1MTHEFF', 'X1MTHINT','X1PAR1EDU', 'X1PAR2EDU', \n",
        "                'X1PAR1OCC2', 'X1PAR2OCC2', 'X1FAMINCOME',\n",
        "                'S1ENGCOMP', 'S1MTHCOMP', 'S1SCICOMP', 'S1APCALC', 'S1IBCALC']\n",
        "\n",
        "parent_vars = ['P1JOBNOW1', 'P1JOBONET1_STEM1', 'P1JOBONET2_STEM1','P1MTHHWEFF', 'P1SCIHWEFF', 'P1ENGHWEFF', \n",
        "               'P1MTHCOMP', 'P1SCICOMP', 'P1ENGCOMP', 'P1CAMPMS', 'P1CAMPOTH', 'P1NOOUTSCH', 'P1MUSEUM', \n",
        "               'P1COMPUTER', 'P1FIXED', 'P1SCIFAIR', 'P1SCIPROJ', 'P1STEMDISC', 'P1EDUASPIRE', 'P1EDUEXPECT']\n",
        "\n",
        "grade_vars = ['X1TXMSCR']\n",
        "\n",
        "school_vars = ['X1CONTROL', 'X1REGION', 'X1SCHOOLCLI', 'X1COUPERTEA', 'X1COUPERCOU', 'X1COUPERPRI']\n",
        "\n",
        "all_vars = grade_vars+student_vars+parent_vars+school_vars\n",
        "\n",
        "# Defining group features\n",
        "hsls_groups = ['X1SEX', 'X1RACE', 'P1JOBNOW1', 'X1FAMINCOME']"
      ]
    },
    {
      "cell_type": "code",
      "execution_count": null,
      "metadata": {
        "id": "OAafksZynrzp"
      },
      "outputs": [],
      "source": [
        "from numpy.ma.core import array\n",
        "def hsls_clean(df: pd.DataFrame, gpfeature) -> pd.DataFrame:\n",
        "  # Replace values <=-7 as nan\n",
        "  df[df <= -7] = np.nan\n",
        "\n",
        "  # Dropping rows that have missing values in group attributes\n",
        "  ix = ~(df[hsls_groups].isna().any(axis=1))\n",
        "  df_clean = df.loc[ix,:]\n",
        "\n",
        "  # Impute nan with mean for non-group attributes\n",
        "  df_clean.fillna(df_clean.median(),inplace = True)\n",
        "\n",
        "  # Creating gradebin binary variable to replace raw score\n",
        "  df_clean['gradebin'] = (df_clean['X1TXMSCR'] > df_clean['X1TXMSCR'].median()).astype(int)\n",
        "  df_clean = df_clean.drop(columns='X1TXMSCR')\n",
        "\n",
        "  # Scaling non-group features\n",
        "  numerical = [feature for feature in all_vars if feature not in hsls_groups]\n",
        "  numerical.remove('X1TXMSCR')\n",
        "  numerical.append('gradebin')\n",
        "  scaler = MinMaxScaler()\n",
        "  df_clean[numerical] = scaler.fit_transform(df_clean[numerical])  \n",
        "\n",
        "  return df_clean"
      ]
    },
    {
      "cell_type": "code",
      "execution_count": null,
      "metadata": {
        "id": "wYSBb9pbpcGh"
      },
      "outputs": [],
      "source": [
        "df_clean = hsls_clean(df,hsls_groups)\n",
        "df_clean_str = df_clean.astype(str)"
      ]
    },
    {
      "cell_type": "code",
      "execution_count": null,
      "metadata": {
        "id": "abDHYUA_v2hz"
      },
      "outputs": [],
      "source": [
        "# Finding significant groups, i.e., counting samples per group.\n",
        "hsls_Counting_groups = df_clean.groupby(hsls_groups).size().to_frame('m').reset_index()\n",
        "hsls_only_with_more = 50 #samples should exceed\n",
        "hsls_significant_groups = hsls_Counting_groups[hsls_Counting_groups['m'] > hsls_only_with_more]\n",
        "hsls_significant_groups = hsls_significant_groups.astype(str)\n",
        "hsls_list_significant = (hsls_significant_groups[hsls_groups]).sum(axis = 1).tolist()\n",
        "\n",
        "# Filtering for only groups with more than hsls_only_with_more elements\n",
        "hsls_dataset = df_clean[ ((df_clean_str[hsls_groups]).sum(axis = 1)).isin(hsls_list_significant)]\n",
        "hsls_dataset_str = hsls_dataset.astype(str)\n",
        "\n",
        "# Separating label from the rest of the data\n",
        "is_aboveAve = hsls_dataset['gradebin']\n",
        "hsls_dataset = hsls_dataset.drop(['gradebin'], axis=1)"
      ]
    },
    {
      "cell_type": "markdown",
      "metadata": {
        "id": "erwORkq4orbC"
      },
      "source": [
        "### Training Personalized Classifier (h_g)\n",
        "Use non-linear model - random forests"
      ]
    },
    {
      "cell_type": "code",
      "execution_count": null,
      "metadata": {
        "id": "PdU69pNwt42S"
      },
      "outputs": [],
      "source": [
        "from sklearn.ensemble import RandomForestClassifier\n",
        "# Defining dataset\n",
        "X = hsls_dataset\n",
        "Y = is_aboveAve\n",
        "\n",
        "# Spliting dataset\n",
        "X_train, X_test, Y_train, Y_test = train_test_split(X, Y, test_size = 0.5, random_state = 0)\n",
        "clf = RandomForestClassifier(random_state=0)\n",
        "clf.fit(X_train, Y_train)\n",
        "\n",
        "# Prediction\n",
        "y_train_pred = clf.predict(X_train)\n",
        "y_test_pred = clf.predict(X_test)"
      ]
    },
    {
      "cell_type": "code",
      "execution_count": null,
      "metadata": {
        "colab": {
          "base_uri": "https://localhost:8080/"
        },
        "id": "qG8qiVcxuETK",
        "outputId": "4adf64a0-96df-473f-a038-b6492c33198a"
      },
      "outputs": [
        {
          "data": {
            "text/plain": [
              "(1.0, 0.732063975628332)"
            ]
          },
          "execution_count": 18,
          "metadata": {},
          "output_type": "execute_result"
        }
      ],
      "source": [
        "# Getting accuracy for the personalized classifier\n",
        "per_train_acc = accuracy_score(Y_train, y_train_pred)\n",
        "per_test_acc = accuracy_score(Y_test, y_test_pred)\n",
        "per_train_acc, per_test_acc"
      ]
    },
    {
      "cell_type": "markdown",
      "metadata": {
        "id": "dp82zHI-tun5"
      },
      "source": [
        "### Training Group-Blind Classifier (h_0)"
      ]
    },
    {
      "cell_type": "code",
      "execution_count": null,
      "metadata": {
        "id": "8lfd4w6rox4Q"
      },
      "outputs": [],
      "source": [
        "from sklearn.ensemble import RandomForestClassifier\n",
        "# Defining dataset\n",
        "gbY = is_aboveAve\n",
        "gbX = hsls_dataset.drop(columns=hsls_groups)\n",
        "\n",
        "# Spliting dataset (Here we are using the same split as in ther Personalized Model)\n",
        "gb_X_train, gb_X_test = X_train.drop(columns=hsls_groups), X_test.drop(columns=hsls_groups)\n",
        "gb_Y_train, gb_Y_test = Y_train, Y_test\n",
        "\n",
        "clfgb = RandomForestClassifier(random_state=0)\n",
        "clfgb.fit(gb_X_train, gb_Y_train)\n",
        "\n",
        "# Prediction\n",
        "gb_y_train_pred = clfgb.predict(gb_X_train)\n",
        "gb_y_test_pred = clfgb.predict(gb_X_test)"
      ]
    },
    {
      "cell_type": "code",
      "execution_count": null,
      "metadata": {
        "colab": {
          "base_uri": "https://localhost:8080/"
        },
        "id": "wz7H4hNFsHif",
        "outputId": "7185446d-632a-4f60-b13b-02dfd532205a"
      },
      "outputs": [
        {
          "data": {
            "text/plain": [
              "(1.0, 0.7253617669459254)"
            ]
          },
          "execution_count": 20,
          "metadata": {},
          "output_type": "execute_result"
        }
      ],
      "source": [
        "# Getting accuracy for the personalized classifier\n",
        "per_train_acc = accuracy_score(gb_Y_train, gb_y_train_pred)\n",
        "per_test_acc = accuracy_score(gb_Y_test, gb_y_test_pred)\n",
        "per_train_acc, per_test_acc"
      ]
    },
    {
      "cell_type": "markdown",
      "metadata": {
        "id": "i8Lv9D7QerJq"
      },
      "source": [
        "Note that the accuracy for the group blind classifier is smaller than the accuracy for the personalized classifier. "
      ]
    },
    {
      "cell_type": "markdown",
      "metadata": {
        "id": "Rsb-oE2kvO78"
      },
      "source": [
        "### Analysis and Plots\n",
        "Now, we will calculate the benefit of personalization. Since we don't have access to the true dataset distribution, we will resample from the test dataset $1000$ data points, estimate the BoP and define it as the group truth BoP."
      ]
    },
    {
      "cell_type": "code",
      "execution_count": null,
      "metadata": {
        "colab": {
          "base_uri": "https://localhost:8080/"
        },
        "id": "dWdGJFi04XrQ",
        "outputId": "680fccfa-413a-4c50-df5c-c7879042ead9"
      },
      "outputs": [
        {
          "name": "stdout",
          "output_type": "stream",
          "text": [
            "The BoP is: -0.11399999999999999\n"
          ]
        }
      ],
      "source": [
        "# Creating test dataframe only with group information, personalized prediction, and gb prediction\n",
        "hsls_pred_tabel = X_test # Only test data\n",
        "hsls_pred_tabel = hsls_dataset_str.loc[hsls_pred_tabel.index] \n",
        "hsls_pred_tabel = hsls_pred_tabel[hsls_groups] # Only group attributes\n",
        "GT = Y_test # Getting groundtruth\n",
        "GB_pred = gb_y_test_pred # GB prediction\n",
        "Per_pred = y_test_pred # Personalized prediction\n",
        "\n",
        "# Canculating indicator of right prediction\n",
        "hsls_pred_tabel['GB Pred'] = 1 - (GT - GB_pred)**2\n",
        "hsls_pred_tabel['Per Pred'] =  1 - (GT - Per_pred)**2\n",
        "\n",
        "#Generating a dataset with 1000 points per group\n",
        "fake_true_data =  get_sim_dataset(hsls_pred_tabel, 1000, hsls_list_significant, hsls_groups, set_seed = True)\n",
        "\n",
        "# Calculating accuracy for all significant groups\n",
        "accuracy_per_group = fake_true_data.groupby(hsls_groups).mean()\n",
        "\n",
        "# Performance difference \n",
        "hsls_pred_tabel['performance difference'] = hsls_pred_tabel['Per Pred'] - hsls_pred_tabel['GB Pred']\n",
        "\n",
        "# BoP per group\n",
        "BoP_Per_group = accuracy_per_group['Per Pred'] - accuracy_per_group['GB Pred']\n",
        "\n",
        "# BoP\n",
        "gamma = min(BoP_Per_group.tolist())\n",
        "print('The BoP is:', gamma)"
      ]
    },
    {
      "cell_type": "code",
      "execution_count": null,
      "metadata": {
        "colab": {
          "base_uri": "https://localhost:8080/"
        },
        "id": "HOuBCs5N3Inz",
        "outputId": "d06f5588-dcc3-403c-80c1-30fc3154ea1f"
      },
      "outputs": [
        {
          "name": "stdout",
          "output_type": "stream",
          "text": [
            "('1.0', '2.0', '1.0', '3.0')\n",
            "['X1SEX', 'X1RACE', 'P1JOBNOW1', 'X1FAMINCOME']\n"
          ]
        }
      ],
      "source": [
        "accuracy_per_group['BoP_Per_Group'] = BoP_Per_group\n",
        "groupMostHarmed = accuracy_per_group.idxmin().loc['BoP_Per_Group']\n",
        "print(groupMostHarmed)\n",
        "print(accuracy_per_group.index.names)"
      ]
    },
    {
      "cell_type": "code",
      "execution_count": null,
      "metadata": {
        "colab": {
          "base_uri": "https://localhost:8080/"
        },
        "id": "e84b4jZX86vt",
        "outputId": "76c3c421-cf50-4d39-8612-866cd21b6536"
      },
      "outputs": [
        {
          "name": "stdout",
          "output_type": "stream",
          "text": [
            "True\n"
          ]
        }
      ],
      "source": [
        "# verify groupMostHarmed\n",
        "print(accuracy_per_group.loc[groupMostHarmed]['BoP_Per_Group'] == gamma)"
      ]
    },
    {
      "cell_type": "markdown",
      "metadata": {
        "id": "xF3x_U4Ov2ns"
      },
      "source": [
        "Now, Lets start to run our experiments for estimation of the BoP. \n",
        "We will resample with replacement $m$ samples per group.\n",
        "After that, we will use Monte Carlo simulations to to calculate the BoP for a given $m$."
      ]
    },
    {
      "cell_type": "code",
      "execution_count": null,
      "metadata": {
        "colab": {
          "base_uri": "https://localhost:8080/"
        },
        "id": "EX3lVwnov2nt",
        "outputId": "2f0d2bdb-12da-4695-96a9-be8135481f75"
      },
      "outputs": [
        {
          "name": "stderr",
          "output_type": "stream",
          "text": [
            "100%|██████████| 7/7 [07:09<00:00, 61.40s/it]\n"
          ]
        }
      ],
      "source": [
        "montecarlo_it = 100\n",
        "qtd_per_group =np.array([10,20,50,100,200,500,1000])\n",
        "#qtd_per_group =np.array([10,25,50, 75, 100, 150, 200, 250, 300, 350, 400, 450, \n",
        "#                        500, 550, 600, 650, 700, 750, 800, 850, 900, 950, 1000])\n",
        "\n",
        "gammas = np.zeros((qtd_per_group.size) * montecarlo_it)\n",
        "data_per_group_est = np.zeros((qtd_per_group.size) * montecarlo_it)\n",
        "j = 0\n",
        "for i in tqdm(qtd_per_group):\n",
        "  gamma_sum = 0\n",
        "  for l in range(montecarlo_it):\n",
        "    dataset_slice = get_sim_dataset(hsls_pred_tabel, i, hsls_list_significant, hsls_groups, set_seed = False)\n",
        "    slice_accuracy_per_group = dataset_slice.groupby(hsls_groups).mean()\n",
        "    gammas[j] = ( min(slice_accuracy_per_group['performance difference'].tolist()) - gamma) ** 2\n",
        "    data_per_group_est[j] = i\n",
        "    j = j+1"
      ]
    },
    {
      "cell_type": "code",
      "execution_count": null,
      "metadata": {
        "colab": {
          "base_uri": "https://localhost:8080/",
          "height": 322
        },
        "id": "fFAyWxU_v2nt",
        "outputId": "264ff840-a7d2-4b7e-a98d-117c54eeab49"
      },
      "outputs": [
        {
          "data": {
            "image/png": "[encoded data removed]",
            "text/plain": [
              "<Figure size 432x288 with 1 Axes>"
            ]
          },
          "metadata": {},
          "output_type": "display_data"
        }
      ],
      "source": [
        "sns.set()\n",
        "d = len(hsls_list_significant)\n",
        "m = qtd_per_group\n",
        "\n",
        "points_per_group_est = data_per_group_est\n",
        "points_MSE = np.stack((points_per_group_est, gammas), axis = 1)\n",
        "column_values = ['Data points per group', 'MSE estimation (log)']\n",
        "df = pd.DataFrame(data = points_MSE, \n",
        "                  columns = column_values)\n",
        "a_u = np.stack((qtd_per_group, upper(d, m)), axis = 1)\n",
        "a_l = np.stack((qtd_per_group, lower(d, m)), axis = 1)\n",
        "a_u = pd.DataFrame(data = a_u, \n",
        "                  columns = column_values)\n",
        "a_l = pd.DataFrame(data = a_l, \n",
        "                  columns = column_values)\n",
        "\n",
        "df['Type'] = 'Estimation'\n",
        "a_u['Type'] = 'Upper bound'\n",
        "a_l['Type'] = 'Lower bound'\n",
        "\n",
        "ax = sns.pointplot(data=pd.concat([a_u, df, a_l]), x=\"Data points per group\", y=\"MSE estimation (log)\", hue = 'Type', linestyles='', marker='o')\n",
        "#ax = sns.pointplot(data= df, x=\"Data points per group\", y=\"MSE estimation (log)\", hue = 'Type', linestyles='', marker='o')\n",
        "plt.yscale('log')\n",
        "ax.set_xticklabels(qtd_per_group, rotation=45)\n",
        "\n",
        "legend = ax.legend()\n",
        "legend.texts[0]\n",
        "plt.savefig('HSLS_MSE.pdf')"
      ]
    },
    {
      "cell_type": "markdown",
      "metadata": {
        "id": "TpGMf2rDv2nt"
      },
      "source": [
        "**Now**, we will run experiments for the hypothesis test. We will:\n",
        "\n",
        "\n",
        "1.   Choose an $\\epsilon$, run an threshold test with this epsilon, and plot the error probability of the test and our converse bound.\n",
        "2.   We will create a heat-map to show the above experiment for different values of epsilon. \n",
        "\n"
      ]
    },
    {
      "cell_type": "code",
      "execution_count": null,
      "metadata": {
        "colab": {
          "base_uri": "https://localhost:8080/"
        },
        "id": "QuAy-Wtkv2nu",
        "outputId": "e7819256-2a50-4d91-8cc0-7273cf7693d7"
      },
      "outputs": [
        {
          "name": "stderr",
          "output_type": "stream",
          "text": [
            "100%|██████████| 8/8 [07:45<00:00, 58.18s/it]\n"
          ]
        }
      ],
      "source": [
        "it_bootstrap = 100\n",
        "epsilon = -0.15\n",
        "\n",
        "qtd_per_group_prob = np.sort(np.array([10,20,50,100, 200,500,1000] + [d]))\n",
        "\n",
        "per_group_num = np.zeros((qtd_per_group_prob.size)*it_bootstrap)\n",
        "error_prob = np.zeros((qtd_per_group_prob.size)*it_bootstrap)\n",
        "j = 0\n",
        "for l in tqdm(qtd_per_group_prob):\n",
        "  i = l\n",
        "  error_prob_sum = 0\n",
        "  dataset_slice = get_sim_dataset(hsls_pred_tabel, i, hsls_list_significant, hsls_groups, set_seed = False)\n",
        "\n",
        "  for k in range(it_bootstrap):\n",
        "    slice_accuracy_per_group = get_mean(hsls_pred_tabel, hsls_list_significant,  hsls_groups, i) \n",
        "    aux_gamma = min(slice_accuracy_per_group) \n",
        "    error_prob_sum = error_count(gamma, aux_gamma, np.array([epsilon]))\n",
        "    per_group_num[j] = i\n",
        "    error_prob[j] = error_prob_sum\n",
        "    j = j+1"
      ]
    },
    {
      "cell_type": "code",
      "execution_count": null,
      "metadata": {
        "colab": {
          "base_uri": "https://localhost:8080/",
          "height": 306
        },
        "id": "Dn4YqY4Kv2nu",
        "outputId": "5699ac2f-ba9e-4ed5-f52f-6d0975dc8401"
      },
      "outputs": [
        {
          "data": {
            "image/png": "[encoded data removed]",
            "text/plain": [
              "<Figure size 432x288 with 1 Axes>"
            ]
          },
          "metadata": {},
          "output_type": "display_data"
        }
      ],
      "source": [
        "points_per_group = per_group_num\n",
        "points_error = np.stack((points_per_group, 100*error_prob.T), axis = 1)\n",
        "column_values = ['Data points per group', 'Probability of error (%)']\n",
        "df = pd.DataFrame(data = points_error, \n",
        "                  columns = column_values)\n",
        "trans = np.where(d == qtd_per_group_prob)\n",
        "a = sns.pointplot(data=df, x=\"Data points per group\", y=\"Probability of error (%)\", linestyles='', marker='o')\n",
        "a.set_xticklabels(qtd_per_group_prob)\n",
        "plt.axvline(trans, 0,100, color = 'orange', linestyle='--', alpha=0.5, label = 'Number of groups')\n",
        "plt.legend(loc='lower left')\n",
        "plt.savefig('HSLS_hyp_test.pdf')"
      ]
    },
    {
      "cell_type": "code",
      "execution_count": null,
      "metadata": {
        "colab": {
          "base_uri": "https://localhost:8080/"
        },
        "id": "6K3GP5w7v2nv",
        "outputId": "4aa9b143-7859-42a9-a3eb-b53d89f69032"
      },
      "outputs": [
        {
          "name": "stderr",
          "output_type": "stream",
          "text": [
            "100%|██████████| 10/10 [09:48<00:00, 58.89s/it]\n"
          ]
        }
      ],
      "source": [
        "it_bootstrap = 100\n",
        "epsilon = np.array([-0.2, -0.1, -0.05, 0, 0.05, 0.1, 0.2])\n",
        "qtd_per_group_prob = np.sort(np.array([10,20,50,100, 200,500,1000] + [d]))\n",
        "\n",
        "error_prob_Matrix = np.zeros((qtd_per_group.size, epsilon.size))\n",
        "j = 0\n",
        "k = 0\n",
        "for i in tqdm(qtd_per_group):\n",
        "  error_prob_sum = 0\n",
        "  dataset_slice = get_sim_dataset(hsls_pred_tabel, i, hsls_list_significant, hsls_groups, set_seed = False)\n",
        "\n",
        "  for l in range(it_bootstrap):\n",
        "    slice_accuracy_per_group = get_mean(hsls_pred_tabel, hsls_list_significant,  hsls_groups, i) \n",
        "    aux_gamma = min(slice_accuracy_per_group) \n",
        "    error_prob_sum += error_count(gamma, aux_gamma, epsilon)\n",
        "\n",
        "  error_prob_Matrix[j, :] = error_prob_sum / it_bootstrap\n",
        "  j = j+1"
      ]
    },
    {
      "cell_type": "code",
      "execution_count": null,
      "metadata": {
        "colab": {
          "base_uri": "https://localhost:8080/",
          "height": 309
        },
        "id": "8UYD9s5av2nv",
        "outputId": "7c16df94-fb83-452e-ee03-411c3ff1c916"
      },
      "outputs": [
        {
          "data": {
            "image/png": "[encoded data removed]",
            "text/plain": [
              "<Figure size 432x288 with 2 Axes>"
            ]
          },
          "metadata": {},
          "output_type": "display_data"
        }
      ],
      "source": [
        "sns.color_palette(\"vlag\", as_cmap=True)\n",
        "aux_prob_matrix = [[100 * l  for l in sub] for sub in error_prob_Matrix]\n",
        "\n",
        "a = pd.DataFrame(aux_prob_matrix)\n",
        "\n",
        "a = a.set_axis(epsilon, axis=1, inplace=False)\n",
        "a = a.set_axis(qtd_per_group, axis=0, inplace=False)\n",
        "plt.rc('font', family='sans-serif') \n",
        "plt.rc('font', serif='Helvetica Neue') \n",
        "plt.rc('text', usetex='false') \n",
        "ax = sns.heatmap(a, annot=True, cmap = 'vlag',  fmt='g', linewidths=.2)\n",
        "plt.xlabel('Threshold')\n",
        "plt.ylabel('Data Points per Group')\n",
        "ax.invert_yaxis()\n",
        "cbar = ax.collections[0].colorbar\n",
        "cbar.set_ticks([0, 25, 50, 75, 100])\n",
        "cbar.set_ticklabels(['0%', '25%', '50%', '75%', '100%'])\n",
        "plt.savefig('hsls_heat_hyp_test.pdf')"
      ]
    },
    {
      "cell_type": "markdown",
      "metadata": {
        "id": "8BGLojS6Ciwn"
      },
      "source": [
        "## Experiments with Compas\n",
        "Predict whether an individual will commit a crime again in 2 years"
      ]
    },
    {
      "cell_type": "markdown",
      "metadata": {
        "id": "2b1BiAuUC6mk"
      },
      "source": [
        "### Preprocessing\n"
      ]
    },
    {
      "cell_type": "code",
      "execution_count": null,
      "metadata": {
        "id": "jTgEVQcwC8EZ"
      },
      "outputs": [],
      "source": [
        "import pandas as pd\n",
        "def load_data(name='adult'):\n",
        "    #% Processing for COMPAS\n",
        "    if name == 'compas':\n",
        "        file = '../Data/compas-scores-two-years.csv'\n",
        "        df = pd.read_csv(file,index_col=0)\n",
        "        aux = df\n",
        "        \n",
        "        # select features for analysis\n",
        "        df = df[['age', 'c_charge_degree', 'race',  'sex', 'priors_count', \n",
        "                    'days_b_screening_arrest',  'is_recid',  'c_jail_in', 'c_jail_out']]\n",
        "        \n",
        "        # drop missing/bad features (following ProPublica's analysis)\n",
        "        # ix is the index of variables we want to keep.\n",
        "\n",
        "        # Remove entries with inconsistent arrest information.\n",
        "        ix = df['days_b_screening_arrest'] <= 30\n",
        "        ix = (df['days_b_screening_arrest'] >= -30) & ix\n",
        "\n",
        "        # remove entries entries where compas case could not be found.\n",
        "        ix = (df['is_recid'] != -1) & ix\n",
        "\n",
        "        # remove traffic offenses.\n",
        "        ix = (df['c_charge_degree'] != \"O\") & ix\n",
        "\n",
        "\n",
        "        # trim dataset\n",
        "        df = df.loc[ix,:]\n",
        "\n",
        "        # create new attribute \"length of stay\" with total jail time.\n",
        "        df['length_of_stay'] = (pd.to_datetime(df['c_jail_out'])-pd.to_datetime(df['c_jail_in'])).apply(lambda x: x.days)\n",
        "        \n",
        "        # drop 'c_jail_in' and 'c_jail_out'\n",
        "        # drop columns that won't be used\n",
        "        dropCol = ['c_jail_in', 'c_jail_out','days_b_screening_arrest']\n",
        "        df.drop(dropCol,inplace=True,axis=1)\n",
        "        \n",
        "        # rename columns 'sex' to 'gender'\n",
        "        df.rename(index=str, columns={\"sex\": \"gender\"},inplace=True)\n",
        "        \n",
        "        # binarize degree charged\n",
        "        # Misd. = -1, Felony = 1\n",
        "        df.loc[:,'c_charge_degree'] = df['c_charge_degree'].apply(lambda x: 1 if x=='F' else -1)\n",
        "               \n",
        "        # reset index\n",
        "        df.reset_index(inplace=True,drop=True)\n",
        "        # Normalizing numerical features\n",
        "        numerical = ['age', 'priors_count', 'length_of_stay']\n",
        "        scaler = MinMaxScaler()\n",
        "        df[numerical] = scaler.fit_transform(df[numerical])  \n",
        "        \n",
        "    # TODO: add other datasets here\n",
        "        \n",
        "    return df"
      ]
    },
    {
      "cell_type": "code",
      "execution_count": null,
      "metadata": {
        "id": "o22hCfwSIbcx"
      },
      "outputs": [],
      "source": [
        "# Cleaning compas dataset\n",
        "compas_dataset = load_data('compas')\n",
        "compas_groups = ['race', 'gender']\n",
        "\n",
        "# Finding significant groups, i.e., counting samples per group.\n",
        "compas_Counting_groups = compas_dataset.groupby(compas_groups).size().to_frame('m').reset_index()\n",
        "compas_only_with_more = 20\n",
        "compas_significant_groups = compas_Counting_groups[compas_Counting_groups['m'] > compas_only_with_more]\n",
        "compas_list_significant = (compas_significant_groups[compas_groups]).sum(axis = 1).tolist()\n",
        "\n",
        "# Filtering for only groups with more than adult_only_with_more elements\n",
        "compas_dataset = compas_dataset[ ((compas_dataset[compas_groups]).sum(axis = 1)).isin(compas_list_significant)]\n",
        "compas_dataset.head()\n",
        "\n",
        "# Separating label (is_recid) from the rest of the data and making income binary\n",
        "is_recid = compas_dataset['is_recid']\n",
        "compas_dataset = compas_dataset.drop(['is_recid'], axis=1)"
      ]
    },
    {
      "cell_type": "markdown",
      "metadata": {
        "id": "jdxm_F9SK8XQ"
      },
      "source": [
        "### Training Personalized Classifier (h_p )"
      ]
    },
    {
      "cell_type": "code",
      "execution_count": null,
      "metadata": {
        "id": "geDNlUHMLA8n"
      },
      "outputs": [],
      "source": [
        "# Defining dataset to be used in the personalized algorithm\n",
        "per_compas_dataset = compas_dataset\n",
        "# One-Hot encoding\n",
        "per_compas_encoded = pd.get_dummies(per_compas_dataset)\n",
        "# Spliting dataset\n",
        "X_train, X_test, Y_train, Y_test = train_test_split(per_compas_encoded, is_recid, test_size = 0.5, random_state = 0)"
      ]
    },
    {
      "cell_type": "code",
      "execution_count": null,
      "metadata": {
        "id": "IO5l-uXpLbpP"
      },
      "outputs": [],
      "source": [
        "# Trining the Logistic regression classifier\n",
        "logistic = LogisticRegression(solver = 'liblinear')\n",
        "logistic.fit(X_train, Y_train)\n",
        "\n",
        "#Predicting\n",
        "y_test_pred = logistic.predict(X_test)\n",
        "y_train_pred = logistic.predict(X_train)"
      ]
    },
    {
      "cell_type": "code",
      "execution_count": null,
      "metadata": {
        "colab": {
          "base_uri": "https://localhost:8080/"
        },
        "id": "9HeavBfrLfZf",
        "outputId": "93a806cf-ea4a-4e8b-a7b2-055c702138c1"
      },
      "outputs": [
        {
          "data": {
            "text/plain": [
              "(0.6778174732055863, 0.6766233766233766)"
            ]
          },
          "execution_count": 28,
          "metadata": {},
          "output_type": "execute_result"
        }
      ],
      "source": [
        "# Getting accuracy for the personalized classifier\n",
        "per_train_acc = accuracy_score(Y_train, y_train_pred)\n",
        "per_test_acc = accuracy_score(Y_test, y_test_pred)\n",
        "per_train_acc, per_test_acc"
      ]
    },
    {
      "cell_type": "markdown",
      "metadata": {
        "id": "LYJiPW7ZNBNr"
      },
      "source": [
        "### Training Generic Classifier (h_0)"
      ]
    },
    {
      "cell_type": "code",
      "execution_count": null,
      "metadata": {
        "id": "9hmtG4y1NGqL"
      },
      "outputs": [],
      "source": [
        "# Dropping group features\n",
        "gb_compas_dataset = compas_dataset.drop(compas_groups, axis = 1)\n",
        "\n",
        "# Spliting dataset (Here we are using the same split as in ther Personalized Model)\n",
        "gb_X_train, gb_X_test, gb_Y_train, gb_Y_test = train_test_split(gb_compas_dataset, is_recid, test_size = 0.5, random_state = 0)"
      ]
    },
    {
      "cell_type": "code",
      "execution_count": null,
      "metadata": {
        "id": "6Mcb_UL3PcEn"
      },
      "outputs": [],
      "source": [
        "# Creating generic model\n",
        "gb_logistic = LogisticRegression(solver = 'liblinear')\n",
        "gb_logistic.fit(gb_X_train, gb_Y_train)\n",
        "\n",
        "#Predicting\n",
        "gb_y_test_pred = gb_logistic.predict(gb_X_test)\n",
        "gb_y_train_pred = gb_logistic.predict(gb_X_train)"
      ]
    },
    {
      "cell_type": "code",
      "execution_count": null,
      "metadata": {
        "colab": {
          "base_uri": "https://localhost:8080/"
        },
        "id": "Sz_T-eBLPipN",
        "outputId": "a8a38886-6e31-41ca-fd25-491425be2ac8"
      },
      "outputs": [
        {
          "data": {
            "text/plain": [
              "(0.6800909386164339, 0.6824675324675324)"
            ]
          },
          "execution_count": 31,
          "metadata": {},
          "output_type": "execute_result"
        }
      ],
      "source": [
        "# Accuracy group blind classifier\n",
        "gb_train_acc = accuracy_score(gb_Y_train, gb_y_train_pred)\n",
        "gb_test_acc = accuracy_score(gb_Y_test, gb_y_test_pred)\n",
        "gb_train_acc, gb_test_acc"
      ]
    },
    {
      "cell_type": "markdown",
      "metadata": {
        "id": "07USUxx2RMq4"
      },
      "source": [
        "### Analysis and Plots\n",
        "\n",
        "We expect the accuracy for the group blind classifier to be smaller than the accuracy for the personalized classifier. \n",
        "\n",
        "Now, we will calculate the benefit of personalization. Note that here we don't have access to the true dataset distribution. Then we will resample from the test dataset $1000$ data points, estimate the BoP and define it as the group truth BoP.\n",
        "\n",
        "For future estimations we will do the same procedure, we will resample $m$ samples with replacemente from the test dataset and estimate the BoP. "
      ]
    },
    {
      "cell_type": "code",
      "execution_count": null,
      "metadata": {
        "colab": {
          "base_uri": "https://localhost:8080/"
        },
        "id": "SPI9GL2WR0h0",
        "outputId": "c93e759a-8600-4d4a-e474-efc8c63429ad"
      },
      "outputs": [
        {
          "name": "stdout",
          "output_type": "stream",
          "text": [
            "The BoP is: -0.09200000000000008\n"
          ]
        }
      ],
      "source": [
        "# Creating test dataframe only with group information, personalized prediction, and gb prediction\n",
        "\n",
        "compas_pred_tabel = X_test # Only test data\n",
        "compas_pred_tabel = compas_dataset.loc[compas_pred_tabel.index] \n",
        "compas_pred_tabel = compas_pred_tabel[compas_groups] # Only group attributes\n",
        "GT_income = Y_test # Getting GT\n",
        "GB_pred_income = gb_y_test_pred # GB prediction\n",
        "Per_pred_income = y_test_pred # Personalized pred\n",
        "\n",
        "# Canculating indicator of right prediction\n",
        "compas_pred_tabel['GB Pred'] = 1 - (GT_income - GB_pred_income)**2\n",
        "compas_pred_tabel['Per Pred'] =  1 - (GT_income - Per_pred_income)**2\n",
        "\n",
        "#Generating a dataset with 1000 points per group\n",
        "fake_true_data =   dataset_slice = get_sim_dataset(compas_pred_tabel, 1000, compas_list_significant, compas_groups, set_seed = True)\n",
        "\n",
        "\n",
        "# Calculating accuracy for all significant groups\n",
        "accuracy_per_group = fake_true_data.groupby(compas_groups).mean()\n",
        "\n",
        "# Performance difference \n",
        "compas_pred_tabel['performance difference'] = compas_pred_tabel['Per Pred'] - compas_pred_tabel['GB Pred']\n",
        "\n",
        "# BoP per group\n",
        "BoP_Per_group = accuracy_per_group['Per Pred'] - accuracy_per_group['GB Pred']\n",
        "\n",
        "# BoP\n",
        "gamma = min(BoP_Per_group.tolist())\n",
        "print('The BoP is:', gamma)"
      ]
    },
    {
      "cell_type": "code",
      "execution_count": null,
      "metadata": {
        "colab": {
          "base_uri": "https://localhost:8080/"
        },
        "id": "PJA8OiGm4tpz",
        "outputId": "d97ab654-cf89-4102-9e67-c939f99bd5cb"
      },
      "outputs": [
        {
          "name": "stdout",
          "output_type": "stream",
          "text": [
            "('Asian', 'Male')\n",
            "['race', 'gender']\n"
          ]
        }
      ],
      "source": [
        "accuracy_per_group['BoP_Per_Group'] = BoP_Per_group\n",
        "groupMostHarmed = accuracy_per_group.idxmin().loc['BoP_Per_Group']\n",
        "print(groupMostHarmed)\n",
        "print(accuracy_per_group.index.names)"
      ]
    },
    {
      "cell_type": "code",
      "execution_count": null,
      "metadata": {
        "colab": {
          "base_uri": "https://localhost:8080/"
        },
        "id": "85dRRPfx8w70",
        "outputId": "d3890a0c-c8b9-4657-8f51-9f6a0c294c5c"
      },
      "outputs": [
        {
          "name": "stdout",
          "output_type": "stream",
          "text": [
            "True\n"
          ]
        }
      ],
      "source": [
        "# verify groupMostHarmed\n",
        "print(accuracy_per_group.loc[groupMostHarmed]['BoP_Per_Group'] == gamma)"
      ]
    },
    {
      "cell_type": "markdown",
      "metadata": {
        "id": "duC1qWYvTOcU"
      },
      "source": [
        "Now, Lets start to run our experiments for estimation of the BoP. \n",
        "We will resample with replacement $m$ samples per group.\n",
        "After that, we will use Monte Carlo simulations to to calculate the BoP for a given $m$."
      ]
    },
    {
      "cell_type": "code",
      "execution_count": null,
      "metadata": {
        "colab": {
          "base_uri": "https://localhost:8080/"
        },
        "id": "EEa2xGPjTPSm",
        "outputId": "c89a5629-2360-4116-f428-00cf45f19b38"
      },
      "outputs": [
        {
          "name": "stderr",
          "output_type": "stream",
          "text": [
            "100%|██████████| 10/10 [00:50<00:00,  5.02s/it]\n"
          ]
        }
      ],
      "source": [
        "montecarlo_it = 100\n",
        "qtd_per_group =np.array([1, 2, 5, 10, 20,50,100,200,500,1000])\n",
        "#qtd_per_group =np.array([10,25,50, 75, 100, 150, 200, 250, 300, 350, 400, 450, \n",
        "#                      500, 550, 600, 650, 700, 750, 800, 850, 900, 950, 1000])\n",
        "\n",
        "gammas = np.zeros((qtd_per_group.size) * montecarlo_it)\n",
        "data_per_group_est = np.zeros((qtd_per_group.size) * montecarlo_it)\n",
        "j = 0\n",
        "for i in tqdm(qtd_per_group):\n",
        "  gamma_sum = 0\n",
        "  for l in range(montecarlo_it):\n",
        "    dataset_slice = get_sim_dataset(compas_pred_tabel, i, compas_list_significant, compas_groups, set_seed = False)\n",
        "    slice_accuracy_per_group = dataset_slice.groupby(compas_groups).mean()\n",
        "    gammas[j] = ( min(slice_accuracy_per_group['performance difference'].tolist()) - gamma) ** 2\n",
        "    data_per_group_est[j] = i\n",
        "    j = j+1"
      ]
    },
    {
      "cell_type": "code",
      "execution_count": null,
      "metadata": {
        "colab": {
          "base_uri": "https://localhost:8080/",
          "height": 322
        },
        "id": "JFmvHd5ST9Ka",
        "outputId": "6744102b-ecad-4681-95f8-65a5897013a7"
      },
      "outputs": [
        {
          "data": {
            "image/png": "[encoded data removed]",
            "text/plain": [
              "<Figure size 432x288 with 1 Axes>"
            ]
          },
          "metadata": {},
          "output_type": "display_data"
        }
      ],
      "source": [
        "sns.set()\n",
        "d = len(compas_list_significant)\n",
        "m = qtd_per_group\n",
        "\n",
        "points_per_group_est = data_per_group_est\n",
        "points_MSE = np.stack((points_per_group_est, gammas), axis = 1)\n",
        "column_values = ['Data points per group', 'MSE estimation (log)']\n",
        "df = pd.DataFrame(data = points_MSE, \n",
        "                  columns = column_values)\n",
        "a_u = np.stack((qtd_per_group, upper(d, m)), axis = 1)\n",
        "a_l = np.stack((qtd_per_group, lower(d, m)), axis = 1)\n",
        "a_u = pd.DataFrame(data = a_u, \n",
        "                  columns = column_values)\n",
        "a_l = pd.DataFrame(data = a_l, \n",
        "                  columns = column_values)\n",
        "\n",
        "df['Type'] = 'Estimation'\n",
        "a_u['Type'] = 'Upper bound'\n",
        "a_l['Type'] = 'Lower bound'\n",
        "\n",
        "ax = sns.pointplot(data=pd.concat([a_u, df, a_l]), x=\"Data points per group\", y=\"MSE estimation (log)\", hue = 'Type', linestyles='', marker='o')\n",
        "\n",
        "\n",
        "plt.yscale('log')\n",
        "ax.set_xticklabels(qtd_per_group, rotation=45)\n",
        "plt.savefig('MSE_log.pdf')\n",
        "\n",
        "legend = ax.legend()\n",
        "legend.texts[0]\n",
        "plt.savefig('compas_MSE.pdf')"
      ]
    },
    {
      "cell_type": "markdown",
      "metadata": {
        "id": "ygjW0qtjWHFl"
      },
      "source": [
        "**Now**, we will run experiments for the hypothesis test. We will:\n",
        "\n",
        "\n",
        "1.   Choose an $\\epsilon$, run an threshold test with this epsilon, and plot the error probability of the test and our converse bound.\n",
        "2.   We will create a heat-map to show the above experiment for different values of epsilon. \n",
        "\n"
      ]
    },
    {
      "cell_type": "code",
      "execution_count": null,
      "metadata": {
        "colab": {
          "base_uri": "https://localhost:8080/"
        },
        "id": "39p9lPtlWIsM",
        "outputId": "65e35b5f-d67e-46a0-9b10-525f02fd5e1e"
      },
      "outputs": [
        {
          "name": "stderr",
          "output_type": "stream",
          "text": [
            "100%|██████████| 11/11 [00:37<00:00,  3.45s/it]\n"
          ]
        }
      ],
      "source": [
        "it_bootstrap = 100\n",
        "epsilon = -0.15\n",
        "\n",
        "qtd_per_group_prob = np.sort(np.array([1, 2, 5, 10, 20,50,100,200,500,1000] + [d]))\n",
        "\n",
        "per_group_num = np.zeros((qtd_per_group_prob.size)*it_bootstrap)\n",
        "error_prob = np.zeros((qtd_per_group_prob.size)*it_bootstrap)\n",
        "j = 0\n",
        "for l in tqdm(qtd_per_group_prob):\n",
        "  i = l\n",
        "  error_prob_sum = 0\n",
        "  dataset_slice = get_sim_dataset(compas_pred_tabel, i, compas_list_significant, compas_groups, set_seed = False)\n",
        "\n",
        "  for k in range(it_bootstrap):\n",
        "    slice_accuracy_per_group = get_mean(compas_pred_tabel, compas_list_significant,  compas_groups, i) \n",
        "    aux_gamma = min(slice_accuracy_per_group) \n",
        "    error_prob_sum = error_count(gamma, aux_gamma, np.array([epsilon]))\n",
        "    per_group_num[j] = i\n",
        "    error_prob[j] = error_prob_sum\n",
        "    j = j+1"
      ]
    },
    {
      "cell_type": "code",
      "execution_count": null,
      "metadata": {
        "colab": {
          "base_uri": "https://localhost:8080/",
          "height": 306
        },
        "id": "n_1N_fjFXNQY",
        "outputId": "0812b574-b025-4e6a-b5ef-fe338229b87f"
      },
      "outputs": [
        {
          "data": {
            "image/png": "[encoded data removed]",
            "text/plain": [
              "<Figure size 432x288 with 1 Axes>"
            ]
          },
          "metadata": {},
          "output_type": "display_data"
        }
      ],
      "source": [
        "points_per_group = per_group_num\n",
        "points_error = np.stack((points_per_group, 100*error_prob.T), axis = 1)\n",
        "column_values = ['Data points per group', 'Probability of error (%)']\n",
        "df = pd.DataFrame(data = points_error, \n",
        "                  columns = column_values)\n",
        "trans = np.where(d == qtd_per_group_prob)\n",
        "a = sns.pointplot(data=df, x=\"Data points per group\", y=\"Probability of error (%)\", linestyles='', marker='o')\n",
        "a.set_xticklabels(qtd_per_group_prob)\n",
        "plt.axvline(trans, 0,100, color = 'orange', linestyle='--', alpha=0.5, label = 'Number of groups')\n",
        "plt.legend(loc='lower left')\n",
        "plt.savefig('hsls_hyp_test.pdf')"
      ]
    },
    {
      "cell_type": "code",
      "execution_count": null,
      "metadata": {
        "colab": {
          "base_uri": "https://localhost:8080/"
        },
        "id": "pDLRNGU6Zyr-",
        "outputId": "62c64988-769a-45db-b316-4da2cfda0b02"
      },
      "outputs": [
        {
          "name": "stderr",
          "output_type": "stream",
          "text": [
            "100%|██████████| 10/10 [00:38<00:00,  3.82s/it]\n"
          ]
        }
      ],
      "source": [
        "it_bootstrap = 100\n",
        "epsilon = np.array([-0.2, -0.1, -0.05, 0, 0.05, 0.1, 0.2])\n",
        "qtd_per_group_prob = np.sort(np.array([1, 2, 5, 10, 20,50,100,200,500,1000] + [d]))\n",
        "\n",
        "error_prob_Matrix = np.zeros((qtd_per_group.size, epsilon.size))\n",
        "j = 0\n",
        "k = 0\n",
        "for i in tqdm(qtd_per_group):\n",
        "  error_prob_sum = 0\n",
        "  dataset_slice = get_sim_dataset(compas_pred_tabel, i, compas_list_significant, compas_groups, set_seed = False)\n",
        "\n",
        "  for l in range(it_bootstrap):\n",
        "    slice_accuracy_per_group = get_mean(compas_pred_tabel, compas_list_significant,  compas_groups, i) \n",
        "    aux_gamma = min(slice_accuracy_per_group) \n",
        "    error_prob_sum += error_count(gamma, aux_gamma, epsilon)\n",
        "\n",
        "  error_prob_Matrix[j, :] = error_prob_sum / it_bootstrap\n",
        "  j = j+1"
      ]
    },
    {
      "cell_type": "code",
      "execution_count": null,
      "metadata": {
        "colab": {
          "base_uri": "https://localhost:8080/",
          "height": 309
        },
        "id": "M1ZAGmW3aW8_",
        "outputId": "e067efa2-ac7b-4a2b-bcf8-fba4fed8b327"
      },
      "outputs": [
        {
          "data": {
            "image/png": "[encoded data removed]",
            "text/plain": [
              "<Figure size 432x288 with 2 Axes>"
            ]
          },
          "metadata": {},
          "output_type": "display_data"
        }
      ],
      "source": [
        "sns.color_palette(\"vlag\", as_cmap=True)\n",
        "aux_prob_matrix = [[100 * l  for l in sub] for sub in error_prob_Matrix]\n",
        "\n",
        "a = pd.DataFrame(aux_prob_matrix)\n",
        "\n",
        "a = a.set_axis(epsilon, axis=1, inplace=False)\n",
        "a = a.set_axis(qtd_per_group, axis=0, inplace=False)\n",
        "plt.rc('font', family='sans-serif') \n",
        "plt.rc('font', serif='Helvetica Neue') \n",
        "plt.rc('text', usetex='false') \n",
        "ax = sns.heatmap(a, annot=True, cmap = 'vlag',  fmt='g', linewidths=.2)\n",
        "plt.xlabel('Threshold')\n",
        "plt.ylabel('Data points per group')\n",
        "ax.invert_yaxis()\n",
        "cbar = ax.collections[0].colorbar\n",
        "cbar.set_ticks([0, 25, 50, 75, 100])\n",
        "cbar.set_ticklabels(['0%', '25%', '50%', '75%', '100%'])\n",
        "plt.savefig('hsls_heat_hyp_test.pdf')"
      ]
    }
  ],
  "metadata": {
    "colab": {
      "collapsed_sections": [
        "JRfwXv40wt6a",
        "uxQQgo7yhU0R",
        "luaBpD1am__H",
        "DhburjEvnDyw",
        "htEZ4xYKyGcQ",
        "4E8x1mUrqlDW",
        "erwORkq4orbC",
        "dp82zHI-tun5",
        "jdxm_F9SK8XQ",
        "LYJiPW7ZNBNr"
      ],
      "provenance": []
    },
    "kernelspec": {
      "display_name": "Python 3",
      "name": "python3"
    },
    "language_info": {
      "name": "python"
    }
  },
  "nbformat": 4,
  "nbformat_minor": 0
}